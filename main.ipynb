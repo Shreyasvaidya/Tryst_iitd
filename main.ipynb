{
  "cells": [
    {
      "cell_type": "markdown",
      "metadata": {
        "id": "view-in-github",
        "colab_type": "text"
      },
      "source": [
        "<a href=\"https://colab.research.google.com/github/Shreyasvaidya/Tryst_iitd/blob/main/main.ipynb\" target=\"_parent\"><img src=\"https://colab.research.google.com/assets/colab-badge.svg\" alt=\"Open In Colab\"/></a>"
      ]
    },
    {
      "cell_type": "code",
      "execution_count": null,
      "metadata": {
        "id": "vQxUVg16D9hm"
      },
      "outputs": [],
      "source": [
        "import numpy as np\n",
        "import matplotlib.pyplot as plt\n",
        "import os\n",
        "import cv2\n",
        "from tqdm import tqdm"
      ]
    },
    {
      "cell_type": "code",
      "execution_count": null,
      "metadata": {
        "colab": {
          "base_uri": "https://localhost:8080/"
        },
        "id": "KCZH26-8Fhyr",
        "outputId": "8c982f0e-0ec3-4bee-a71c-b18de8e9fca3"
      },
      "outputs": [
        {
          "output_type": "stream",
          "name": "stdout",
          "text": [
            "Mounted at /content/drive\n"
          ]
        }
      ],
      "source": [
        "from google.colab import drive\n",
        "drive.mount('/content/drive',force_remount=True)\n",
        "DATA_PATH = \"/content/drive/My Drive/autobot-tryst-dataset\"\n"
      ]
    },
    {
      "cell_type": "markdown",
      "metadata": {
        "id": "CTPwfQVAGtke"
      },
      "source": [
        "uploading files of gdrive to colab"
      ]
    },
    {
      "cell_type": "code",
      "execution_count": null,
      "metadata": {
        "id": "wSo7VkxcGssZ"
      },
      "outputs": [],
      "source": [
        "!cp /content/drive/MyDrive/autobot-tryst-dataset/Animal/animal.zip /content/\n",
        "!cp /content/drive/MyDrive/autobot-tryst-dataset/Person/person.zip /content/\n",
        "!cp /content/drive/MyDrive/autobot-tryst-dataset/Stop\\ sign/stop.zip /content/\n",
        "!cp /content/drive/MyDrive/autobot-tryst-dataset/Traffic\\ Cones/roadCones.zip /content/\n",
        "!cp /content/drive/MyDrive/autobot-tryst-dataset/Traffic\\ lights/trafficLights_complete.zip /content/\n",
        "\n",
        "\n",
        "\n"
      ]
    },
    {
      "cell_type": "markdown",
      "metadata": {
        "id": "EdY2w4VuIvoq"
      },
      "source": [
        "copying the datasets"
      ]
    },
    {
      "cell_type": "code",
      "execution_count": null,
      "metadata": {
        "id": "wSjt9B6eIysN"
      },
      "outputs": [],
      "source": [
        "!unzip animal.zip\n",
        "!unzip person.zip\n",
        "!unzip stop.zip\n",
        "!unzip roadCones.zip\n",
        "!unzip trafficLights_complete.zip\n"
      ]
    },
    {
      "cell_type": "code",
      "execution_count": null,
      "metadata": {
        "id": "nOeyVpXxLRiz"
      },
      "outputs": [],
      "source": [
        "resolution=(100,100)\n",
        "training_data=[]\n",
        "path=\"/content/dataset/animal\"\n",
        "for i in tqdm(os.listdir(path)):\n",
        "  try:\n",
        "  \n",
        "    array=cv2.imread(os.path.join(path,i))\n",
        "    resized_array=cv2.resize(array,resolution)\n",
        "    training_data.append([resized_array,0])\n",
        "  except:\n",
        "    pass   \n",
        "path=\"/content/dataset/person/\"  \n",
        "for i in tqdm(os.listdir(path)):\n",
        "  try:      \n",
        "  \n",
        "  \n",
        "    array=cv2.imread(os.path.join(path,i))\n",
        "    resized_array=cv2.resize(array,resolution)\n",
        "    training_data.append([resized_array,1])\n",
        "  except:\n",
        "    pass  \n",
        "path=\"/content/dataset/roadCones/\"  \n",
        "for i in tqdm(os.listdir(path)):\n",
        "  try:  \n",
        "  \n",
        "  \n",
        "    array=cv2.imread(os.path.join(path,i))\n",
        "    resized_array=cv2.resize(array,resolution)\n",
        "    training_data.append([resized_array,2])    \n",
        "  except:\n",
        "    pass\n",
        "path=\"/content/dataset3/blocked/\"  \n",
        "for i in tqdm(os.listdir(path)):\n",
        "  try:  \n",
        "  \n",
        "  \n",
        "    array=cv2.imread(os.path.join(path,i))\n",
        "    resized_array=cv2.resize(array,resolution)\n",
        "    training_data.append([resized_array,3])    \n",
        "  except:\n",
        "    pass\n",
        "path=\"/content/trafficLight_complete/blue\"  \n",
        "for i in tqdm(os.listdir(path)):\n",
        "  try:  \n",
        "  \n",
        "  \n",
        "    array=cv2.imread(os.path.join(path,i))\n",
        "    resized_array=cv2.resize(array,resolution)\n",
        "    training_data.append([resized_array,4])    \n",
        "  except:\n",
        "    pass\n",
        "\n",
        "path=\"/content/trafficLight_complete/green/\"  \n",
        "for i in tqdm(os.listdir(path)):\n",
        "  try:  \n",
        "  \n",
        "  \n",
        "    array=cv2.imread(os.path.join(path,i))\n",
        "    resized_array=cv2.resize(array,resolution)\n",
        "    training_data.append([resized_array,5])    \n",
        "  except:\n",
        "    pass\n",
        "path=\"/content/trafficLight_complete/red/\"  \n",
        "for i in tqdm(os.listdir(path)):\n",
        "  try:  \n",
        "  \n",
        "  \n",
        "    array=cv2.imread(os.path.join(path,i))\n",
        "    resized_array=cv2.resize(array,resolution)\n",
        "    training_data.append([resized_array,6])    \n",
        "  except:\n",
        "    pass\n",
        "\n",
        "\n"
      ]
    },
    {
      "cell_type": "markdown",
      "metadata": {
        "id": "HvX3lpOVPfOU"
      },
      "source": [
        "converting image to arrays"
      ]
    },
    {
      "cell_type": "code",
      "execution_count": null,
      "metadata": {
        "colab": {
          "base_uri": "https://localhost:8080/"
        },
        "id": "eQ5x-s7zVZb_",
        "outputId": "e5280636-37c4-4c5c-cfbc-ac8a77403970"
      },
      "outputs": [
        {
          "name": "stderr",
          "output_type": "stream",
          "text": [
            "IOPub data rate exceeded.\n",
            "The notebook server will temporarily stop sending output\n",
            "to the client in order to avoid crashing it.\n",
            "To change this limit, set the config variable\n",
            "`--NotebookApp.iopub_data_rate_limit`.\n",
            "\n",
            "Current values:\n",
            "NotebookApp.iopub_data_rate_limit=1000000.0 (bytes/sec)\n",
            "NotebookApp.rate_limit_window=3.0 (secs)\n",
            "\n"
          ]
        }
      ],
      "source": [
        "print(training_data)"
      ]
    },
    {
      "cell_type": "code",
      "execution_count": null,
      "metadata": {
        "id": "8xx7k1BHPjFK"
      },
      "outputs": [],
      "source": [
        "import random\n",
        "random.shuffle(training_data)\n",
        "for i in range(10):\n",
        "\n",
        "  print(training_data[i][1])"
      ]
    },
    {
      "cell_type": "markdown",
      "metadata": {
        "id": "KOvo5CbwPrE2"
      },
      "source": [
        "Shufffling data"
      ]
    },
    {
      "cell_type": "code",
      "execution_count": null,
      "metadata": {
        "id": "EvURIfjWP453"
      },
      "outputs": [],
      "source": [
        "X=[]\n",
        "y=[]\n",
        "for i in training_data:\n",
        "    X.append(i[0])\n",
        "    y.append(i[1])\n",
        "import numpy as np    \n",
        "X=np.array(X).reshape(-1,100,100,3)\n",
        "  "
      ]
    },
    {
      "cell_type": "code",
      "execution_count": null,
      "metadata": {
        "id": "U5ssyvTHQVx6"
      },
      "outputs": [],
      "source": [
        "X=X/255"
      ]
    },
    {
      "cell_type": "markdown",
      "metadata": {
        "id": "aB8pZ1GJQXLX"
      },
      "source": [
        "normalising for easier training"
      ]
    },
    {
      "cell_type": "code",
      "execution_count": null,
      "metadata": {
        "id": "ujc-vrdqG4cA"
      },
      "outputs": [],
      "source": [
        "import pickle\n",
        "\n",
        "pickle_out = open(\"X.pickle\",\"wb\")\n",
        "pickle.dump(X, pickle_out)\n",
        "pickle_out.close()\n",
        "\n",
        "pickle_out = open(\"y.pickle\",\"wb\")\n",
        "pickle.dump(y, pickle_out)\n",
        "pickle_out.close()\n",
        "\n",
        "\n"
      ]
    },
    {
      "cell_type": "code",
      "execution_count": null,
      "metadata": {
        "id": "U9_9fEtOJlfc"
      },
      "outputs": [],
      "source": [
        "!cp /content/X.pickle /content/drive/MyDrive\n",
        "!cp /content/y.pickle /content/drive/MyDrive"
      ]
    },
    {
      "cell_type": "code",
      "source": [
        "drive.flush_and_unmount"
      ],
      "metadata": {
        "colab": {
          "base_uri": "https://localhost:8080/"
        },
        "id": "qPaVg-ZQaSj3",
        "outputId": "a82a9468-6f4f-4e97-ee9e-f4e3f1c77ac6"
      },
      "execution_count": null,
      "outputs": [
        {
          "output_type": "execute_result",
          "data": {
            "text/plain": [
              "<function google.colab.drive.flush_and_unmount>"
            ]
          },
          "metadata": {},
          "execution_count": 11
        }
      ]
    },
    {
      "cell_type": "code",
      "execution_count": null,
      "metadata": {
        "id": "VdC19HLrQhna"
      },
      "outputs": [],
      "source": [
        "import tensorflow as tf\n",
        "from tensorflow.keras.models import Sequential\n",
        "from tensorflow.keras.layers import Dense,Flatten,Activation,Conv2D,MaxPooling2D\n",
        "import pickle\n",
        "import numpy as np"
      ]
    },
    {
      "cell_type": "code",
      "execution_count": null,
      "metadata": {
        "id": "GQs4W5ftQajM"
      },
      "outputs": [],
      "source": [
        "model=Sequential()\n",
        "\n",
        "model.add(Conv2D(256, (3, 3), input_shape=X.shape[1:]))\n",
        "model.add(Activation(\"relu\"))\n",
        "model.add(MaxPooling2D(pool_size=(2,2)))\n",
        "model.add(Conv2D(256, (3, 3)))\n",
        "model.add(Activation(\"relu\"))\n",
        "model.add(MaxPooling2D(pool_size=(2,2)))\n",
        "model.add(Flatten())\n",
        "model.add(Dense(64))\n",
        "model.add(Activation(\"relu\"))\n",
        "model.add(Dense(7))\n",
        "model.add(Activation('softmax'))"
      ]
    },
    {
      "cell_type": "code",
      "execution_count": null,
      "metadata": {
        "id": "KrCSG-PfQnFB"
      },
      "outputs": [],
      "source": [
        "model.compile(optimizer=\"adam\",\n",
        "              loss=\"sparse_categorical_crossentropy\",\n",
        "              metrics=['accuracy'])"
      ]
    },
    {
      "cell_type": "code",
      "execution_count": null,
      "metadata": {
        "id": "f27FbKLnQo2k"
      },
      "outputs": [],
      "source": [
        "X=np.array(X)\n",
        "y=np.array(y)\n",
        "weights={0:1,1:1,2:1,3:3,4:6,5:6,6:6}"
      ]
    },
    {
      "cell_type": "code",
      "execution_count": null,
      "metadata": {
        "colab": {
          "base_uri": "https://localhost:8080/"
        },
        "id": "kYuJ9RYDQ27y",
        "outputId": "21100198-2dfd-48ba-c55f-79908debfb4a"
      },
      "outputs": [
        {
          "name": "stdout",
          "output_type": "stream",
          "text": [
            "6850\n"
          ]
        }
      ],
      "source": [
        "print(len(training_data))"
      ]
    },
    {
      "cell_type": "code",
      "execution_count": null,
      "metadata": {
        "colab": {
          "base_uri": "https://localhost:8080/"
        },
        "id": "xZwW_LxIQ-dg",
        "outputId": "5157a71b-3af4-4f73-8b76-545b52f12e45"
      },
      "outputs": [
        {
          "name": "stdout",
          "output_type": "stream",
          "text": [
            "Epoch 1/3\n",
            "193/193 [==============================] - 1066s 6s/step - loss: 0.0443 - accuracy: 0.9875 - val_loss: 0.0271 - val_accuracy: 0.9912\n",
            "Epoch 2/3\n",
            "193/193 [==============================] - 1064s 6s/step - loss: 0.0099 - accuracy: 0.9966 - val_loss: 0.0219 - val_accuracy: 0.9942\n",
            "Epoch 3/3\n",
            "193/193 [==============================] - 1075s 6s/step - loss: 0.0035 - accuracy: 0.9995 - val_loss: 0.0097 - val_accuracy: 0.9971\n"
          ]
        },
        {
          "data": {
            "text/plain": [
              "<keras.callbacks.History at 0x7f2d787c56d0>"
            ]
          },
          "execution_count": 19,
          "metadata": {},
          "output_type": "execute_result"
        }
      ],
      "source": [
        "model.fit(X,y,epochs=3,validation_split=0.1,class_weight=weights)"
      ]
    },
    {
      "cell_type": "code",
      "execution_count": null,
      "metadata": {
        "id": "kl1dygxDQB3v"
      },
      "outputs": [],
      "source": [
        "model.save(\"iitd_model.h5\")"
      ]
    },
    {
      "cell_type": "markdown",
      "metadata": {
        "id": "MuwvCvPwgUqB"
      },
      "source": [
        "0-animal,1-human,2-roadcones 3-stop sign 4-blue5-green 6-red"
      ]
    },
    {
      "cell_type": "code",
      "execution_count": null,
      "metadata": {
        "id": "eqmpNJ3IgTlr"
      },
      "outputs": [],
      "source": [
        ""
      ]
    }
  ],
  "metadata": {
    "accelerator": "GPU",
    "colab": {
      "collapsed_sections": [],
      "name": "main.ipynb",
      "provenance": [],
      "authorship_tag": "ABX9TyMCxi9gqxyTRJOru9FYRXdv",
      "include_colab_link": true
    },
    "kernelspec": {
      "display_name": "Python 3",
      "name": "python3"
    },
    "language_info": {
      "name": "python"
    }
  },
  "nbformat": 4,
  "nbformat_minor": 0
}